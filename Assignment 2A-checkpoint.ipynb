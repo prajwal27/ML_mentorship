{
 "cells": [
  {
   "cell_type": "code",
   "execution_count": 142,
   "metadata": {},
   "outputs": [
    {
     "data": {
      "text/plain": [
       "'Link to the numpy docs: https://docs.scipy.org/doc/numpy-1.13.0/reference/'"
      ]
     },
     "execution_count": 142,
     "metadata": {},
     "output_type": "execute_result"
    }
   ],
   "source": [
    "import numpy as np\n",
    "import scipy as sp\n",
    "\"\"\"Link to the numpy docs: https://docs.scipy.org/doc/numpy-1.13.0/reference/\"\"\""
   ]
  },
  {
   "cell_type": "markdown",
   "metadata": {},
   "source": [
    "Lets solve a few basic numpy problems"
   ]
  },
  {
   "cell_type": "code",
   "execution_count": 15,
   "metadata": {},
   "outputs": [
    {
     "name": "stdout",
     "output_type": "stream",
     "text": [
      "[0, 3, 6, 9, 12, 15, 18, 21, 24]\n",
      "[0, 2, 4, 6, 8, 10, 12, 14, 16, 18, 20, 22, 24, 26]\n"
     ]
    }
   ],
   "source": [
    "def get_range(start, end, step):\n",
    "    \"\"\"Return an array of given range with specific step\"\"\"\n",
    "    #initialize array\n",
    "    arr = []\n",
    "    for i in range(start, end, step):\n",
    "        arr.append(i)\n",
    "    #define the function to assign the elements\n",
    "    a = np.arange(start,end,step)\n",
    "    \n",
    "    #return the array\n",
    "    return(arr)\n",
    "print(get_range(0,27,3))\n",
    "print(get_range(0,27,2))"
   ]
  },
  {
   "cell_type": "code",
   "execution_count": 44,
   "metadata": {},
   "outputs": [
    {
     "name": "stdout",
     "output_type": "stream",
     "text": [
      "[[0 0 0]\n",
      " [1 1 1]\n",
      " [2 2 2]\n",
      " [3 3 3]]\n",
      "cant do\n"
     ]
    }
   ],
   "source": [
    "\n",
    "def new_shape(old_array, new_shape):\n",
    "    \"\"\"Return an array of given shape\"\"\"\n",
    "    #check if array can be reshaped to given dimensions\n",
    "    m,n =(old_array.shape)\n",
    "    m1,n1=(new_shape)\n",
    "    print(old_array)\n",
    "    #define the function to reshape the array\n",
    "    if m*n ==  m1*n1:\n",
    "        arr = old_array.reshape(m1,n1)\n",
    "        return (arr)\n",
    "    #return the array\n",
    "    return(\"cant do wont do\")\n",
    "old_array = np.array([[0,0,0],[1,1,1],[2,2,2],[3,3,3]])\n",
    "print(new_shape(old_array, (1,6)))"
   ]
  },
  {
   "cell_type": "code",
   "execution_count": 48,
   "metadata": {},
   "outputs": [
    {
     "name": "stdout",
     "output_type": "stream",
     "text": [
      "[1 2 3 4 5 6]\n",
      "6\n",
      "[6, 5, 4, 3, 2, 1]\n"
     ]
    }
   ],
   "source": [
    "def reverse_array(old_array):\n",
    "    \"\"\"Return the reversed array\"\"\"\n",
    "    #initialize array\n",
    "    new = []\n",
    "    print(old_array)\n",
    "    print(old_array.size)\n",
    "    #define function to reverse array\n",
    "    for i in range(old_array.size, 0 , -1):\n",
    "        new.append(old_array[i-1])\n",
    "    \n",
    "    #return the array\n",
    "    return(new)\n",
    "old = np.array([1,2,3,4,5,6])\n",
    "print(reverse_array(old))"
   ]
  },
  {
   "cell_type": "code",
   "execution_count": 68,
   "metadata": {},
   "outputs": [
    {
     "name": "stdout",
     "output_type": "stream",
     "text": [
      "((1, 2, 3), (4, 5, 6))\n",
      "[1 2 3 4 5 6]\n"
     ]
    }
   ],
   "source": [
    "def stack_lists(lists):\n",
    "    \"\"\"Return an array containing lists stacked horizontally\"\"\"\n",
    "    #initialize array\n",
    "    \n",
    "    #define function to return array with stacked lists given whether arrays to be stacked horizontally or vertically\n",
    "    \n",
    "    a = np.array([1, 2, 3])\n",
    "    b = np.array([2, 3, 4])\n",
    "    h = np.stack((a, b), axis=1)\n",
    "    print(lists)\n",
    "    arr = np.hstack(lists)\n",
    "    #return the array\n",
    "    return(arr)\n",
    "print(stack_lists(((1,2,3),(4,5,6))))"
   ]
  },
  {
   "cell_type": "code",
   "execution_count": 94,
   "metadata": {},
   "outputs": [
    {
     "name": "stdout",
     "output_type": "stream",
     "text": [
      "0.5\n",
      "[ 0.5         0.8660254   0.57735027]\n"
     ]
    }
   ],
   "source": [
    "def get_trignometric_values(angles):\n",
    "    \"\"\"Return an array containing sine, cosine and tangent values of the given angle stacked horizontally\"\"\"\n",
    "    #initialize array\n",
    "    \n",
    "    #define sine function\n",
    "    s = np.sin(angles * np.pi/180)\n",
    "    print(s)\n",
    "    #define cosine function\n",
    "    c = np.cos(np.array(angles) * (np.pi/180))\n",
    "    #define tangent function\n",
    "    t = np.tan(np.array(angles) * (np.pi/180))\n",
    "    #define function to return array with stacked lists\n",
    "    r = np.hstack((s,c,t))\n",
    "    #return the array\n",
    "    return(r)\n",
    "print(get_trignometric_values(30))"
   ]
  },
  {
   "cell_type": "code",
   "execution_count": 103,
   "metadata": {},
   "outputs": [
    {
     "name": "stdout",
     "output_type": "stream",
     "text": [
      "[[ 2.  -0.5]\n",
      " [-1.   0.5]]\n"
     ]
    }
   ],
   "source": [
    "def invert_array(array):\n",
    "    \"\"\"Return the pseudo inverse of the given array; read more about pseudo inverse at: \n",
    "    https://en.wikipedia.org/wiki/Moore%E2%80%93Penrose_inverse\"\"\"\n",
    "    #define function to invert array\n",
    "    \n",
    "    #return the array\n",
    "    return(np.linalg.pinv(array))\n",
    "print(invert_array([[1,1],[2,4]]))"
   ]
  },
  {
   "cell_type": "code",
   "execution_count": 116,
   "metadata": {},
   "outputs": [
    {
     "name": "stdout",
     "output_type": "stream",
     "text": [
      "[[1 2 3]\n",
      " [3 2 1]]\n",
      "[1 3 2 2 3 1]\n"
     ]
    }
   ],
   "source": [
    "def flatten_array(array):\n",
    "    \"\"\"Return the flattened array\"\"\"\n",
    "    #define function to flatten array\n",
    "    print(np.array(array))\n",
    "    #return the array\n",
    "    return(np.array(array).flatten('F'))\n",
    "print(flatten_array(([[1,2,3],[3,2,1]])))"
   ]
  },
  {
   "cell_type": "code",
   "execution_count": 119,
   "metadata": {},
   "outputs": [],
   "source": [
    "def add_noise(array, mean, std):\n",
    "    \"\"\"Add gaussian noise with given mean and standard deviation; read more about the normal distribution at:\n",
    "    https://en.wikipedia.org/wiki/Normal_distribution\"\"\"\n",
    "    #define function to add noise with the given mean and standard deviation\n",
    "    noise_arr = np.random.noise(mean, std, array.size)\n",
    "    array = array + noise_arr\n",
    "    #return the array\n",
    "    return(array)"
   ]
  },
  {
   "cell_type": "code",
   "execution_count": 132,
   "metadata": {},
   "outputs": [
    {
     "name": "stdout",
     "output_type": "stream",
     "text": [
      "(2, 3)\n",
      "(2, 1, 3)\n",
      "[[[1 2 3]]\n",
      "\n",
      " [[3 4 6]]]\n"
     ]
    }
   ],
   "source": [
    "def expand_array(array, axis):\n",
    "    \"\"\"Return an array expanded along the column\"\"\"\n",
    "    #define function to expand array\n",
    "    print(array.shape)\n",
    "    print((np.expand_dims(array, axis = axis)).shape)\n",
    "    #return the array\n",
    "    return(np.expand_dims(array, axis = axis))\n",
    "print(expand_array(np.array([[1,2,3],[3,4,6]]),1))"
   ]
  },
  {
   "cell_type": "code",
   "execution_count": 139,
   "metadata": {},
   "outputs": [
    {
     "name": "stdout",
     "output_type": "stream",
     "text": [
      "[[ 0.5         0.73105858]\n",
      " [ 0.88079708  0.95257413]]\n"
     ]
    }
   ],
   "source": [
    "def sigmoid_fn(array):\n",
    "    \"\"\"Return an array with the sigmoid values\"\"\"\n",
    "    #define sigmoid function \n",
    "    \n",
    "    #return the array\n",
    "    return(1/(1+np.exp(-1 * array)))\n",
    "print(sigmoid_fn(np.array([[0,1],[2,3]])))"
   ]
  },
  {
   "cell_type": "code",
   "execution_count": 147,
   "metadata": {},
   "outputs": [
    {
     "ename": "AttributeError",
     "evalue": "module 'scipy' has no attribute 'stats'",
     "output_type": "error",
     "traceback": [
      "\u001b[1;31m---------------------------------------------------------------------------\u001b[0m",
      "\u001b[1;31mAttributeError\u001b[0m                            Traceback (most recent call last)",
      "\u001b[1;32m<ipython-input-147-26d0d888b12f>\u001b[0m in \u001b[0;36m<module>\u001b[1;34m()\u001b[0m\n\u001b[0;32m     14\u001b[0m     \u001b[1;31m#return the array\u001b[0m\u001b[1;33m\u001b[0m\u001b[1;33m\u001b[0m\u001b[0m\n\u001b[0;32m     15\u001b[0m     \u001b[1;32mreturn\u001b[0m\u001b[1;33m(\u001b[0m\u001b[0ma\u001b[0m\u001b[1;33m)\u001b[0m\u001b[1;33m\u001b[0m\u001b[0m\n\u001b[1;32m---> 16\u001b[1;33m \u001b[0mprint\u001b[0m\u001b[1;33m(\u001b[0m\u001b[0mget_means\u001b[0m\u001b[1;33m(\u001b[0m\u001b[0mnp\u001b[0m\u001b[1;33m.\u001b[0m\u001b[0marray\u001b[0m\u001b[1;33m(\u001b[0m\u001b[1;33m[\u001b[0m\u001b[1;36m1\u001b[0m\u001b[1;33m,\u001b[0m\u001b[1;36m2\u001b[0m\u001b[1;33m,\u001b[0m\u001b[1;36m3\u001b[0m\u001b[1;33m,\u001b[0m\u001b[1;36m4\u001b[0m\u001b[1;33m,\u001b[0m\u001b[1;33m]\u001b[0m\u001b[1;33m)\u001b[0m\u001b[1;33m)\u001b[0m\u001b[1;33m)\u001b[0m\u001b[1;33m\u001b[0m\u001b[0m\n\u001b[0m",
      "\u001b[1;32m<ipython-input-147-26d0d888b12f>\u001b[0m in \u001b[0;36mget_means\u001b[1;34m(array)\u001b[0m\n\u001b[0;32m      5\u001b[0m     \u001b[0ma\u001b[0m \u001b[1;33m=\u001b[0m \u001b[0mnp\u001b[0m\u001b[1;33m.\u001b[0m\u001b[0mmean\u001b[0m\u001b[1;33m(\u001b[0m\u001b[0marray\u001b[0m\u001b[1;33m)\u001b[0m\u001b[1;33m\u001b[0m\u001b[0m\n\u001b[0;32m      6\u001b[0m     \u001b[1;31m#define function for geometric mean\u001b[0m\u001b[1;33m\u001b[0m\u001b[1;33m\u001b[0m\u001b[0m\n\u001b[1;32m----> 7\u001b[1;33m     \u001b[0mg\u001b[0m \u001b[1;33m=\u001b[0m \u001b[0mscipy\u001b[0m\u001b[1;33m.\u001b[0m\u001b[0mstats\u001b[0m\u001b[1;33m.\u001b[0m\u001b[0mgmean\u001b[0m\u001b[1;33m(\u001b[0m\u001b[0marr\u001b[0m\u001b[1;33m,\u001b[0m \u001b[0maxis\u001b[0m \u001b[1;33m=\u001b[0m \u001b[1;36m0\u001b[0m\u001b[1;33m)\u001b[0m\u001b[1;33m\u001b[0m\u001b[0m\n\u001b[0m\u001b[0;32m      8\u001b[0m     \u001b[1;31m#define function for harmonic mean\u001b[0m\u001b[1;33m\u001b[0m\u001b[1;33m\u001b[0m\u001b[0m\n\u001b[0;32m      9\u001b[0m     \u001b[0mh\u001b[0m \u001b[1;33m=\u001b[0m \u001b[0msp\u001b[0m\u001b[1;33m.\u001b[0m\u001b[0mstats\u001b[0m\u001b[1;33m.\u001b[0m\u001b[0mmstats\u001b[0m\u001b[1;33m.\u001b[0m\u001b[0mhmean\u001b[0m\u001b[1;33m(\u001b[0m\u001b[0marr\u001b[0m\u001b[1;33m,\u001b[0m \u001b[0maxis\u001b[0m \u001b[1;33m=\u001b[0m \u001b[1;36m0\u001b[0m\u001b[1;33m)\u001b[0m\u001b[1;33m\u001b[0m\u001b[0m\n",
      "\u001b[1;31mAttributeError\u001b[0m: module 'scipy' has no attribute 'stats'"
     ]
    }
   ],
   "source": [
    "import scipy as sp\n",
    "def get_means(array):\n",
    "    \"\"\"Return arithmetic mean, geometric mean, harmonic mean and log means in a column array\"\"\"\n",
    "    #define function for arithmetic mean\n",
    "    a = np.mean(array)\n",
    "    #define function for geometric mean\n",
    "    g = scipy.stats.gmean(arr, axis = 0)\n",
    "    #define function for harmonic mean\n",
    "    h = sp.stats.mstats.hmean(arr, axis = 0)\n",
    "    #define function for log means\n",
    "    l = np.mean(np.log(array))\n",
    "    #stack the means in an array\n",
    "    s = np.hstack(a,g,h,l)\n",
    "    #return the array\n",
    "    return(a)\n",
    "print(get_means(np.array([1,2,3,4,])))"
   ]
  },
  {
   "cell_type": "code",
   "execution_count": 166,
   "metadata": {},
   "outputs": [
    {
     "name": "stdout",
     "output_type": "stream",
     "text": [
      "5\n"
     ]
    }
   ],
   "source": [
    "def return_count(array, threshold):\n",
    "    \"\"\"Return the number of elements above the threshold in an array\"\"\"\n",
    "    #define function to count the number of elements above the threshold\n",
    "    #return the value\n",
    "    n = np.where(array > threshold)\n",
    "    return(n[0].size)\n",
    "print(return_count(np.array([1,1,3,4,5,3,4]),2))"
   ]
  },
  {
   "cell_type": "code",
   "execution_count": 221,
   "metadata": {},
   "outputs": [
    {
     "name": "stdout",
     "output_type": "stream",
     "text": [
      "9\n"
     ]
    }
   ],
   "source": [
    "def column_sum(array, column_no):\n",
    "    \"\"\"Return the sum of all the elements in a column of the array\"\"\"\n",
    "    #check if column exists in array, else return(np.nan)\n",
    "    m = array.shape\n",
    "    #define function to return the sum of elements in the given column\n",
    "   # print(m[0])\n",
    "    #print(len(m))\n",
    "    #print(array[:, column_no].sum())\n",
    "    if len(m) > 0:\n",
    "        if(m[0] <= column_no):\n",
    "            return (array[:,column_no].sum())\n",
    "        else:\n",
    "            return (np.nan)\n",
    "    else :\n",
    "        return (np.nan)\n",
    "            \n",
    "    #return the value\n",
    "    return (1)\n",
    "print(column_sum(np.array([[1,2,3],[4,5,6]]), 2))"
   ]
  },
  {
   "cell_type": "code",
   "execution_count": 220,
   "metadata": {},
   "outputs": [
    {
     "name": "stdout",
     "output_type": "stream",
     "text": [
      "6\n"
     ]
    }
   ],
   "source": [
    "def row_sum(array, row_no):\n",
    "    \"\"\"Return the sum of all the elements in a row of the array\"\"\"\n",
    "    #check if row exists in array, else return(np.nan)\n",
    "    m = array.shape\n",
    "    #print(m[0])\n",
    "   # print(len(m))\n",
    "    #define function to return the sum of elements in the given row\n",
    "    if len(m) > 0:\n",
    "        if(m[0] >= row_no):\n",
    "            return (array[row_no,:].sum())\n",
    "        else:\n",
    "            return (2)\n",
    "    else :\n",
    "        return (np.nan)\n",
    "    #return the value\n",
    "    \n",
    "print(row_sum(np.array([[1,2,3],[4,5,6]]), 0))"
   ]
  },
  {
   "cell_type": "code",
   "execution_count": 219,
   "metadata": {},
   "outputs": [
    {
     "data": {
      "text/plain": [
       "True"
      ]
     },
     "execution_count": 219,
     "metadata": {},
     "output_type": "execute_result"
    }
   ],
   "source": [
    "def check_diag(array):\n",
    "    \"\"\"Return True if the matrix is diagonal\"\"\"\n",
    "    #define function to chweck if the matrix is diagonal\n",
    "    m,n = array.shape\n",
    "    d =np.eye(m,n)\n",
    "    n = np.dot(d,array).astype(np.int)\n",
    "    #print(array)\n",
    "    #print(n)\n",
    "    if np.array_equal(array,n):\n",
    "        return True\n",
    "    return False\n",
    "    \n",
    "    #return True/False\n",
    "check_diag(np.array([[1,0],[0,3]]))"
   ]
  },
  {
   "cell_type": "code",
   "execution_count": 223,
   "metadata": {},
   "outputs": [],
   "source": [
    "#done"
   ]
  }
 ],
 "metadata": {
  "kernelspec": {
   "display_name": "Python 3",
   "language": "python",
   "name": "python3"
  },
  "language_info": {
   "codemirror_mode": {
    "name": "ipython",
    "version": 3
   },
   "file_extension": ".py",
   "mimetype": "text/x-python",
   "name": "python",
   "nbconvert_exporter": "python",
   "pygments_lexer": "ipython3",
   "version": "3.6.6"
  }
 },
 "nbformat": 4,
 "nbformat_minor": 2
}
